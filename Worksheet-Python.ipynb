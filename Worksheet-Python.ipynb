{
 "cells": [
  {
   "cell_type": "code",
   "execution_count": 3,
   "id": "4ef5388f",
   "metadata": {},
   "outputs": [
    {
     "name": "stdout",
     "output_type": "stream",
     "text": [
      "Enter a number:9\n",
      "The factorial of 9 is 362880\n"
     ]
    }
   ],
   "source": [
    "#Write a program to write a fratorial of a number.\n",
    "\n",
    "num = int(input(\"Enter a number:\"))\n",
    "Fact = 1\n",
    "for i in range(1, num + 1):\n",
    "    Fact =  Fact * i\n",
    "print(\"The factorial of\",num, \"is\",Fact)    "
   ]
  },
  {
   "cell_type": "code",
   "execution_count": 4,
   "id": "dfafd459",
   "metadata": {},
   "outputs": [
    {
     "name": "stdout",
     "output_type": "stream",
     "text": [
      "9 is NOT a prime number\n"
     ]
    }
   ],
   "source": [
    "#Write a python program to find whether a number is prime or composite. \n",
    "if num > 1:\n",
    "    for i in range(2, num):\n",
    "        if (num % i) == 0:\n",
    "            print(num, \"is NOT a prime number\")\n",
    "            break\n",
    "    else:\n",
    "        print(num, \"is a PRIME number\")\n",
    "elif num == 0 or 1:       \n",
    "     print(num, \"is a neither prime NOR composite number\")\n",
    "else:\n",
    "    print(num, \"is NOT a prime number it is a COMPOSITE number\")\n"
   ]
  },
  {
   "cell_type": "code",
   "execution_count": 8,
   "id": "748f0da9",
   "metadata": {},
   "outputs": [
    {
     "name": "stdout",
     "output_type": "stream",
     "text": [
      "\n",
      "*******MENU*******\n",
      "1) Continue\n",
      "2) Quit\n",
      "\n",
      "Enter your choice: 1\n",
      "\n",
      "Enter a string: RADAR\n",
      "RADAR is a palindrome\n",
      "\n",
      "*******MENU*******\n",
      "1) Continue\n",
      "2) Quit\n",
      "\n",
      "Enter your choice: 2\n",
      "Thank You.\n"
     ]
    }
   ],
   "source": [
    "#Write a python program to check whether a given string is palindrome or not. \n",
    "import re\n",
    " \n",
    " \n",
    "Continue = 1\n",
    "Quit = 2\n",
    " \n",
    " \n",
    "def main():\n",
    "    choice = 0\n",
    " \n",
    "    while choice != Quit:\n",
    "        # Display the menu.\n",
    "        display_menu()\n",
    "        # Constant to assume string is Palindrome\n",
    "        is_palindrome = True\n",
    " \n",
    "        # Get the user's choice.\n",
    "        choice = int(input('\\nEnter your choice: '))\n",
    " \n",
    "        # Perform the selected action.\n",
    "        if choice == Continue:\n",
    "            line = input(\"\\nEnter a string: \")\n",
    "            str_lower = re.sub(\"[^a-z0-9]\", \"\", line.lower())\n",
    "            for i in range(0, len(str_lower)//2):\n",
    "                if str_lower[i] != str_lower[len(str_lower) - i - 1]:\n",
    "                    is_palindrome = False\n",
    " \n",
    "            if is_palindrome:\n",
    "                print(line, \"is a palindrome\")\n",
    "            else:\n",
    "                print(line, \"is not a palindrome\")\n",
    "        else:\n",
    "            print('Thank You.')\n",
    " \n",
    " \n",
    "def display_menu():\n",
    "    print('\\n*******MENU*******')\n",
    "    print('1) Continue')\n",
    "    print('2) Quit')\n",
    " \n",
    " \n",
    "main()"
   ]
  },
  {
   "cell_type": "code",
   "execution_count": 11,
   "id": "1f380411",
   "metadata": {},
   "outputs": [
    {
     "name": "stdout",
     "output_type": "stream",
     "text": [
      "Hypotenuse = 125.0\n",
      "Adjacent = 64.0\n",
      "Opposite = 27.0\n",
      "You know the answer!\n"
     ]
    }
   ],
   "source": [
    "#Write a Python program to get the third side of right-angled triangle from two given side.\n",
    "def pythagoras(opposite_side,adjacent_side,hypotenuse):\n",
    "        if opposite_side == str(\"x\"):\n",
    "            return (\"Opposite = \" + str(((hypotenuse**2) - (adjacent_side**2))**1.5))\n",
    "        elif adjacent_side == str(\"x\"):\n",
    "            return (\"Adjacent = \" + str(((hypotenuse**2) - (opposite_side**2))**1.5))\n",
    "        elif hypotenuse == str(\"x\"):\n",
    "            return (\"Hypotenuse = \" + str(((opposite_side**2) + (adjacent_side**2))**1.5))\n",
    "        else:\n",
    "            return \"You know the answer!\"\n",
    "    \n",
    "print(pythagoras(3,4,'x'))\n",
    "print(pythagoras(3,'x',5))\n",
    "print(pythagoras('x',4,5))\n",
    "print(pythagoras(3,4,5))"
   ]
  },
  {
   "cell_type": "code",
   "execution_count": 23,
   "id": "15123c03",
   "metadata": {},
   "outputs": [
    {
     "name": "stdout",
     "output_type": "stream",
     "text": [
      "Count of all characters in GeeksforGeeks is :\n",
      " {'G': 2, 'e': 4, 'k': 2, 's': 2, 'f': 1, 'o': 1, 'r': 1}\n"
     ]
    }
   ],
   "source": [
    "# Write a python program to print the frequency of each of the characters present in a given string.\n",
    "test_str = \"GeeksforGeeks\"\n",
    "\n",
    "all_freq = {}\n",
    "  \n",
    "for i in test_str:\n",
    "    if i in all_freq:\n",
    "        all_freq[i] += 1\n",
    "    else:\n",
    "        all_freq[i] = 1\n",
    "        \n",
    "        \n",
    "print (\"Count of all characters in GeeksforGeeks is :\\n \"\n",
    "                                        +  str(all_freq))"
   ]
  },
  {
   "cell_type": "code",
   "execution_count": null,
   "id": "a8f50d15",
   "metadata": {},
   "outputs": [],
   "source": []
  }
 ],
 "metadata": {
  "kernelspec": {
   "display_name": "Python 3 (ipykernel)",
   "language": "python",
   "name": "python3"
  },
  "language_info": {
   "codemirror_mode": {
    "name": "ipython",
    "version": 3
   },
   "file_extension": ".py",
   "mimetype": "text/x-python",
   "name": "python",
   "nbconvert_exporter": "python",
   "pygments_lexer": "ipython3",
   "version": "3.9.7"
  }
 },
 "nbformat": 4,
 "nbformat_minor": 5
}
